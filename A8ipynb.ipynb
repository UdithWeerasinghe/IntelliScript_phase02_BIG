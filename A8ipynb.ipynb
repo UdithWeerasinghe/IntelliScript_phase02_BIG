{
  "nbformat": 4,
  "nbformat_minor": 0,
  "metadata": {
    "colab": {
      "provenance": [],
      "authorship_tag": "ABX9TyPJoDucSk+z6/Ta4Rz2Wna8",
      "include_colab_link": true
    },
    "kernelspec": {
      "name": "python3",
      "display_name": "Python 3"
    },
    "language_info": {
      "name": "python"
    }
  },
  "cells": [
    {
      "cell_type": "markdown",
      "metadata": {
        "id": "view-in-github",
        "colab_type": "text"
      },
      "source": [
        "<a href=\"https://colab.research.google.com/github/UdithWeerasinghe/IntelliScript_phase02_BIG/blob/main/A8ipynb.ipynb\" target=\"_parent\"><img src=\"https://colab.research.google.com/assets/colab-badge.svg\" alt=\"Open In Colab\"/></a>"
      ]
    },
    {
      "cell_type": "code",
      "source": [
        "%%capture\n",
        "!pip install pandas openpyxl transformers xlrd numpy"
      ],
      "metadata": {
        "id": "iGSekr9WMYf4"
      },
      "execution_count": null,
      "outputs": []
    },
    {
      "cell_type": "code",
      "source": [
        "import os\n",
        "from openpyxl import load_workbook, Workbook\n",
        "from datetime import datetime\n",
        "import re\n",
        "import pandas as pd"
      ],
      "metadata": {
        "id": "re8m_9i_KPBy"
      },
      "execution_count": null,
      "outputs": []
    },
    {
      "cell_type": "code",
      "source": [
        "# Mount Google Drive\n",
        "from google.colab import drive\n",
        "drive.mount('/content/drive')"
      ],
      "metadata": {
        "colab": {
          "base_uri": "https://localhost:8080/"
        },
        "id": "0NUbfDjjLzsP",
        "outputId": "906d528c-98c7-47e0-b36e-bb8ba4cfba11"
      },
      "execution_count": null,
      "outputs": [
        {
          "output_type": "stream",
          "name": "stdout",
          "text": [
            "Mounted at /content/drive\n"
          ]
        }
      ]
    },
    {
      "cell_type": "code",
      "source": [
        "# Input and output folder paths\n",
        "input_folder_path = '/content/drive/MyDrive/XLRaw'\n",
        "output_folder_path = '/content/drive/MyDrive/A10'\n",
        "\n",
        "# Ensure the output folder exists\n",
        "os.makedirs(output_folder_path, exist_ok=True)"
      ],
      "metadata": {
        "id": "VrHEpa8hKRDX"
      },
      "execution_count": null,
      "outputs": []
    },
    {
      "cell_type": "code",
      "source": [
        "# Month mapping for textual dates\n",
        "MONTHS = {\n",
        "    \"january\": 1, \"february\": 2, \"march\": 3, \"april\": 4,\n",
        "    \"may\": 5, \"june\": 6, \"july\": 7, \"august\": 8,\n",
        "    \"september\": 9, \"october\": 10, \"november\": 11, \"december\": 12,\n",
        "    \"jan\": 1, \"feb\": 2, \"mar\": 3, \"apr\": 4,\n",
        "    \"jun\": 6, \"jul\": 7, \"aug\": 8, \"sep\": 9,\n",
        "    \"oct\": 10, \"nov\": 11, \"dec\": 12,\n",
        "}"
      ],
      "metadata": {
        "id": "VKMLiOZNKQ4w"
      },
      "execution_count": null,
      "outputs": []
    },
    {
      "cell_type": "code",
      "source": [
        "\n",
        "# Check if a value is a valid date\n",
        "def is_time_related(value):\n",
        "    if pd.isna(value):\n",
        "        return False\n",
        "    if isinstance(value, datetime):\n",
        "        return True\n",
        "    if isinstance(value, str):\n",
        "        value = re.sub(r'\\([^)]*\\)', '', value).strip()  # Remove extra characters like (b)\n",
        "        # Check for known date patterns\n",
        "        date_patterns = [\n",
        "            r'^\\d{4}$',  # yyyy\n",
        "            r'^\\d{1,2}/\\d{4}$',  # mm/yyyy\n",
        "            r'^\\d{4}/\\d{1,2}$',  # yyyy/mm\n",
        "            r'^\\d{1,2}/\\d{1,2}/\\d{4}$',  # mm/dd/yyyy or dd/mm/yyyy\n",
        "            r'^[a-zA-Z]{3,}-\\d{2}$',  # e.g., Jan-19\n",
        "        ]\n",
        "        for pattern in date_patterns:\n",
        "            if re.match(pattern, value):\n",
        "                return True\n",
        "        # Check for month names\n",
        "        value_lower = value.lower()\n",
        "        if any(month in value_lower for month in MONTHS):\n",
        "            return True\n",
        "    return False\n",
        "\n",
        "# Normalize textual date to datetime\n",
        "def normalize_date(value, inferred_year=None):\n",
        "    if isinstance(value, datetime):\n",
        "        return value\n",
        "    if isinstance(value, str):\n",
        "        value = re.sub(r'\\([^)]*\\)', '', value).strip()  # Remove extra characters like (b)\n",
        "        try:\n",
        "            # Handle patterns like \"Jan-19\" or \"January\"\n",
        "            if \"-\" in value or value.lower() in MONTHS:\n",
        "                parts = value.split(\"-\")\n",
        "                month = MONTHS.get(parts[0].lower(), None)\n",
        "                if month:\n",
        "                    if len(parts) == 2 and parts[1].isdigit():\n",
        "                        inferred_year = int(\"20\" + parts[1]) if len(parts[1]) == 2 else int(parts[1])\n",
        "                        return datetime(inferred_year, month, 1)\n",
        "                    elif inferred_year:\n",
        "                        return datetime(inferred_year, month, 1)\n",
        "            # Handle single month names\n",
        "            if value.lower() in MONTHS and inferred_year:\n",
        "                month = MONTHS[value.lower()]\n",
        "                return datetime(inferred_year, month, 1)\n",
        "        except Exception:\n",
        "            pass\n",
        "    return value  # Return the original value if not normalized\n",
        "\n",
        "# Process rows or columns for structured and inferred date data\n",
        "def process_time_structure(cells, inferred_year=None):\n",
        "    dates = []\n",
        "    current_year = inferred_year\n",
        "    for cell in cells:\n",
        "        if pd.isna(cell):\n",
        "            break  # Stop processing at the first empty cell\n",
        "        if is_time_related(cell):\n",
        "            normalized_date = normalize_date(cell, current_year)\n",
        "            if isinstance(normalized_date, datetime):\n",
        "                current_year = normalized_date.year\n",
        "            dates.append(normalized_date)\n",
        "        elif current_year:  # Handle inferred textual dates\n",
        "            normalized_date = normalize_date(cell, current_year)\n",
        "            dates.append(normalized_date)\n",
        "        else:\n",
        "            dates.append(cell)  # Retain original value if not normalized\n",
        "    return dates\n",
        "\n",
        "\n",
        "# Extract time-related data\n",
        "def extract_time_data(sheet):\n",
        "    time_data = []\n",
        "\n",
        "    # Row-wise processing\n",
        "    for row in sheet.iter_rows(values_only=True):\n",
        "        inferred_year = None\n",
        "        row_dates = process_time_structure(row, inferred_year)\n",
        "        time_data.extend(row_dates)\n",
        "\n",
        "    # Column-wise processing\n",
        "    for col in sheet.iter_cols(values_only=True):\n",
        "        inferred_year = None\n",
        "        col_dates = process_time_structure(col, inferred_year)\n",
        "        time_data.extend(col_dates)\n",
        "\n",
        "    # Ensure only datetime or valid strings remain\n",
        "    time_data = [d for d in time_data if isinstance(d, (datetime, str))]\n",
        "\n",
        "    # Separate datetime and string values\n",
        "    datetime_values = sorted([d for d in time_data if isinstance(d, datetime)])\n",
        "    string_values = sorted([d for d in time_data if isinstance(d, str)])\n",
        "\n",
        "    # Combine sorted lists\n",
        "    return datetime_values + string_values\n",
        "\n",
        "\n",
        "# Extract parameters and their numeric values\n",
        "def extract_parameters(sheet):\n",
        "    parameters = {}\n",
        "\n",
        "    # Row-wise extraction\n",
        "    for row in sheet.iter_rows(values_only=True):\n",
        "        for i, cell in enumerate(row):\n",
        "            if isinstance(cell, str) and not is_time_related(cell):\n",
        "                values = row[i + 1:]\n",
        "                if all(isinstance(v, (int, float)) for v in values if v is not None):\n",
        "                    parameters[cell] = values\n",
        "\n",
        "    # Column-wise extraction\n",
        "    for col_idx, col in enumerate(sheet.iter_cols(values_only=True)):\n",
        "        for i, cell in enumerate(col):\n",
        "            if isinstance(cell, str) and not is_time_related(cell):\n",
        "                values = col[i + 1:]\n",
        "                if all(isinstance(v, (int, float)) for v in values if v is not None):\n",
        "                    parameters[cell] = values\n",
        "\n",
        "    return parameters\n",
        "\n",
        "# Save organized data to an Excel file\n",
        "def save_organized_data(time_data, parameters, output_file):\n",
        "    workbook = Workbook()\n",
        "    sheet = workbook.active\n",
        "    sheet.title = \"Organized Data\"\n",
        "\n",
        "    # Write time data in the first column\n",
        "    sheet.cell(row=1, column=1, value=\"Date\")\n",
        "    for idx, time_value in enumerate(time_data, start=2):\n",
        "        sheet.cell(row=idx, column=1, value=time_value.strftime('%Y-%m-%d') if isinstance(time_value, datetime) else time_value)\n",
        "\n",
        "    # Write parameters and values\n",
        "    col_idx = 2\n",
        "    for param_name, values in parameters.items():\n",
        "        sheet.cell(row=1, column=col_idx, value=param_name)  # Header\n",
        "        for row_idx, value in enumerate(values, start=2):\n",
        "            sheet.cell(row=row_idx, column=col_idx, value=value)\n",
        "        col_idx += 1\n",
        "\n",
        "    # Save the workbook\n",
        "    workbook.save(output_file)\n",
        "    print(f\"Saved: {output_file}\")\n",
        "\n",
        "# Process each Excel sheet\n",
        "def process_excel_file(input_path, output_folder):\n",
        "    workbook = load_workbook(input_path, data_only=True)\n",
        "    file_name = os.path.splitext(os.path.basename(input_path))[0]\n",
        "\n",
        "    for sheet_name in workbook.sheetnames:\n",
        "        sheet = workbook[sheet_name]\n",
        "        print(f\"Processing: {file_name} - {sheet_name}\")\n",
        "\n",
        "        time_data = extract_time_data(sheet)\n",
        "        parameters = extract_parameters(sheet)\n",
        "\n",
        "        if time_data or parameters:\n",
        "            output_file = os.path.join(output_folder, f\"{file_name}_{sheet_name}_organized.xlsx\")\n",
        "            save_organized_data(time_data, parameters, output_file)\n",
        "        else:\n",
        "            print(f\"No data found in: {file_name} - {sheet_name}\")\n",
        "\n",
        "\n"
      ],
      "metadata": {
        "id": "uDQvtm0AXp-z"
      },
      "execution_count": null,
      "outputs": []
    },
    {
      "cell_type": "code",
      "source": [
        "# Process all Excel files in the folder\n",
        "for file_name in os.listdir(input_folder_path):\n",
        "    if file_name.endswith('.xlsx'):\n",
        "        input_path = os.path.join(input_folder_path, file_name)\n",
        "        process_excel_file(input_path, output_folder_path)"
      ],
      "metadata": {
        "colab": {
          "base_uri": "https://localhost:8080/"
        },
        "id": "Qr28QkKUX4GF",
        "outputId": "513962e0-bdd3-4038-d5de-360679127640"
      },
      "execution_count": null,
      "outputs": [
        {
          "output_type": "stream",
          "name": "stdout",
          "text": [
            "Processing: table2.04_20241202_e - HS codes Import Classification \n",
            "Saved: /content/drive/MyDrive/A10/table2.04_20241202_e_HS codes Import Classification _organized.xlsx\n",
            "Processing: table2.04_20241202_e - 2.04 In USD 2007-2024\n",
            "Saved: /content/drive/MyDrive/A10/table2.04_20241202_e_2.04 In USD 2007-2024_organized.xlsx\n",
            "Processing: table2.04_20241202_e - 2.04 In Rupees 2007-2024\n",
            "Saved: /content/drive/MyDrive/A10/table2.04_20241202_e_2.04 In Rupees 2007-2024_organized.xlsx\n",
            "Processing: table2.04_20241202_e - 2.04 SITC In USD 2014-2024\n",
            "Saved: /content/drive/MyDrive/A10/table2.04_20241202_e_2.04 SITC In USD 2014-2024_organized.xlsx\n",
            "Processing: table2.04_20241202_e - 2.04 SITC In Rupee 2014-2024\n",
            "Saved: /content/drive/MyDrive/A10/table2.04_20241202_e_2.04 SITC In Rupee 2014-2024_organized.xlsx\n",
            "Processing: table2.04_20241202_e - 2.04 In USD 2006-2010\n",
            "Saved: /content/drive/MyDrive/A10/table2.04_20241202_e_2.04 In USD 2006-2010_organized.xlsx\n",
            "Processing: table2.04_20241202_e - 2.04 In Rupees 2006-2010\n",
            "Saved: /content/drive/MyDrive/A10/table2.04_20241202_e_2.04 In Rupees 2006-2010_organized.xlsx\n",
            "Processing: table2.06_20241202_e - 2.06(Base period 1997-100)\n",
            "Saved: /content/drive/MyDrive/A10/table2.06_20241202_e_2.06(Base period 1997-100)_organized.xlsx\n",
            "Processing: table2.06_20241202_e - 2.06 In USD Terms\n",
            "Saved: /content/drive/MyDrive/A10/table2.06_20241202_e_2.06 In USD Terms_organized.xlsx\n",
            "Processing: table2.06_20241202_e - 2.06 In Rupees Terms \n",
            "Saved: /content/drive/MyDrive/A10/table2.06_20241202_e_2.06 In Rupees Terms _organized.xlsx\n",
            "Processing: table2.02_20241202_e(2) - HS codes Export Classification\n",
            "Saved: /content/drive/MyDrive/A10/table2.02_20241202_e(2)_HS codes Export Classification_organized.xlsx\n",
            "Processing: table2.02_20241202_e(2) - 2.02 In USD 2007-2024\n",
            "Saved: /content/drive/MyDrive/A10/table2.02_20241202_e(2)_2.02 In USD 2007-2024_organized.xlsx\n",
            "Processing: table2.02_20241202_e(2) - 2.02 In Rupees 2007-2024\n",
            "Saved: /content/drive/MyDrive/A10/table2.02_20241202_e(2)_2.02 In Rupees 2007-2024_organized.xlsx\n",
            "Processing: table2.02_20241202_e(2) - 2.02 In USD SITC 2014-2024\n",
            "Saved: /content/drive/MyDrive/A10/table2.02_20241202_e(2)_2.02 In USD SITC 2014-2024_organized.xlsx\n",
            "Processing: table2.02_20241202_e(2) - 2.02 In Rupee SITC 2014-2024\n",
            "Saved: /content/drive/MyDrive/A10/table2.02_20241202_e(2)_2.02 In Rupee SITC 2014-2024_organized.xlsx\n",
            "Processing: table2.02_20241202_e(2) - 2.02 In USD 2006-2010\n",
            "Saved: /content/drive/MyDrive/A10/table2.02_20241202_e(2)_2.02 In USD 2006-2010_organized.xlsx\n",
            "Processing: table2.02_20241202_e(2) - 2.02 In Rupees 2006-2010\n",
            "Saved: /content/drive/MyDrive/A10/table2.02_20241202_e(2)_2.02 In Rupees 2006-2010_organized.xlsx\n"
          ]
        }
      ]
    }
  ]
}