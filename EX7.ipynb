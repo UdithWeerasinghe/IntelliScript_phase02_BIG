{
  "nbformat": 4,
  "nbformat_minor": 0,
  "metadata": {
    "colab": {
      "provenance": [],
      "authorship_tag": "ABX9TyOG2Rb49KOQLzmR3eDXhsEw",
      "include_colab_link": true
    },
    "kernelspec": {
      "name": "python3",
      "display_name": "Python 3"
    },
    "language_info": {
      "name": "python"
    }
  },
  "cells": [
    {
      "cell_type": "markdown",
      "metadata": {
        "id": "view-in-github",
        "colab_type": "text"
      },
      "source": [
        "<a href=\"https://colab.research.google.com/github/UdithWeerasinghe/IntelliScript_phase02_BIG/blob/main/EX7.ipynb\" target=\"_parent\"><img src=\"https://colab.research.google.com/assets/colab-badge.svg\" alt=\"Open In Colab\"/></a>"
      ]
    },
    {
      "cell_type": "code",
      "source": [
        "# Install required libraries\n",
        "!pip install pandas openpyxl"
      ],
      "metadata": {
        "colab": {
          "base_uri": "https://localhost:8080/"
        },
        "id": "SZuRnGnxmwQB",
        "outputId": "9b3c6213-d6c4-471c-d203-06218980f069"
      },
      "execution_count": null,
      "outputs": [
        {
          "output_type": "stream",
          "name": "stdout",
          "text": [
            "Requirement already satisfied: pandas in /usr/local/lib/python3.10/dist-packages (2.2.2)\n",
            "Requirement already satisfied: openpyxl in /usr/local/lib/python3.10/dist-packages (3.1.5)\n",
            "Requirement already satisfied: numpy>=1.22.4 in /usr/local/lib/python3.10/dist-packages (from pandas) (1.26.4)\n",
            "Requirement already satisfied: python-dateutil>=2.8.2 in /usr/local/lib/python3.10/dist-packages (from pandas) (2.8.2)\n",
            "Requirement already satisfied: pytz>=2020.1 in /usr/local/lib/python3.10/dist-packages (from pandas) (2024.2)\n",
            "Requirement already satisfied: tzdata>=2022.7 in /usr/local/lib/python3.10/dist-packages (from pandas) (2024.2)\n",
            "Requirement already satisfied: et-xmlfile in /usr/local/lib/python3.10/dist-packages (from openpyxl) (2.0.0)\n",
            "Requirement already satisfied: six>=1.5 in /usr/local/lib/python3.10/dist-packages (from python-dateutil>=2.8.2->pandas) (1.17.0)\n"
          ]
        }
      ]
    },
    {
      "cell_type": "code",
      "source": [
        "# Import necessary libraries\n",
        "import pandas as pd\n",
        "import os\n",
        "import json\n",
        "from google.colab import drive"
      ],
      "metadata": {
        "id": "upljJ6SLmwMT"
      },
      "execution_count": null,
      "outputs": []
    },
    {
      "cell_type": "code",
      "source": [
        "# Mount Google Drive\n",
        "drive.mount('/content/drive')"
      ],
      "metadata": {
        "colab": {
          "base_uri": "https://localhost:8080/"
        },
        "id": "LBkjB32imwKU",
        "outputId": "67e2efdc-0357-4e10-aaff-57eea43efbef"
      },
      "execution_count": null,
      "outputs": [
        {
          "output_type": "stream",
          "name": "stdout",
          "text": [
            "Mounted at /content/drive\n"
          ]
        }
      ]
    },
    {
      "cell_type": "code",
      "execution_count": null,
      "metadata": {
        "id": "l2_c8d5-msfR"
      },
      "outputs": [],
      "source": [
        "\n",
        "def process_excel_to_timeseries(input_directory, output_directory):\n",
        "    \"\"\"\n",
        "    Processes all Excel files in the input directory, extracts time series data, and saves them to the output directory.\n",
        "\n",
        "    Parameters:\n",
        "        input_directory (str): Path to the input folder in Google Drive containing Excel files.\n",
        "        output_directory (str): Path to the output folder in Google Drive to save JSON and Excel files.\n",
        "\n",
        "    Returns:\n",
        "        None\n",
        "    \"\"\"\n",
        "    os.makedirs(output_directory, exist_ok=True)\n",
        "    consolidated_data = []\n",
        "\n",
        "    # Iterate through all files in the input directory\n",
        "    for file_name in os.listdir(input_directory):\n",
        "        if file_name.endswith(('.xlsx', '.xls')):\n",
        "            file_path = os.path.join(input_directory, file_name)\n",
        "            print(f\"Processing file: {file_name}\")\n",
        "\n",
        "            # Read the Excel file\n",
        "            xls = pd.ExcelFile(file_path)\n",
        "            for sheet_name in xls.sheet_names:\n",
        "                print(f\"  Processing sheet: {sheet_name}\")\n",
        "                df = pd.read_excel(xls, sheet_name=sheet_name)\n",
        "\n",
        "                if 'Date' not in df.columns:\n",
        "                    print(f\"  Skipping sheet '{sheet_name}' as it does not contain a 'Date' column.\")\n",
        "                    continue\n",
        "\n",
        "                # Clean and format the data\n",
        "                df['Date'] = pd.to_datetime(df['Date'], errors='coerce')\n",
        "                df = df.dropna(subset=['Date'])  # Drop rows with invalid dates\n",
        "                df = df.sort_values(by='Date')  # Sort by date\n",
        "\n",
        "                # Prepare JSON structure\n",
        "                time_series_data = {}\n",
        "                for col in df.columns:\n",
        "                    if col != 'Date':\n",
        "                        time_series_data[col] = [\n",
        "                            {\"Date\": row['Date'].isoformat(), \"value\": row[col]} for _, row in df[['Date', col]].dropna().iterrows()\n",
        "                        ]\n",
        "\n",
        "                # Save individual JSON file for each sheet\n",
        "                json_output_path = os.path.join(output_directory, f\"{file_name}_{sheet_name}.json\")\n",
        "                with open(json_output_path, 'w') as json_file:\n",
        "                    json.dump(time_series_data, json_file, indent=4)\n",
        "                print(f\"    Saved JSON file: {json_output_path}\")\n",
        "\n",
        "                # Consolidate data for combined Excel output\n",
        "                df.rename(columns={\"Date\": \"Date\"}, inplace=True)\n",
        "                consolidated_data.append(df)\n",
        "\n",
        "    # Save consolidated Excel file\n",
        "    if consolidated_data:\n",
        "        combined_df = pd.concat(consolidated_data, ignore_index=True)\n",
        "        excel_output_path = os.path.join(output_directory, \"consolidated_timeseries.xlsx\")\n",
        "        combined_df.to_excel(excel_output_path, index=False)\n",
        "        print(f\"Saved consolidated Excel file: {excel_output_path}\")\n",
        "    else:\n",
        "        print(\"No valid data found to save.\")\n",
        "\n",
        "\n",
        "\n",
        "\n"
      ]
    },
    {
      "cell_type": "code",
      "source": [
        "# Define Google Drive paths\n",
        "input_folder = \"/content/drive/MyDrive/TSD\"  # Replace with your input folder path\n",
        "output_folder = \"/content/drive/MyDrive/JSD\"  # Replace with your output folder path"
      ],
      "metadata": {
        "id": "msh-YTc7m3rL"
      },
      "execution_count": null,
      "outputs": []
    },
    {
      "cell_type": "code",
      "source": [
        "# Execute the ETL pipeline\n",
        "process_excel_to_timeseries(input_folder, output_folder)"
      ],
      "metadata": {
        "colab": {
          "base_uri": "https://localhost:8080/"
        },
        "id": "fG83OD8em3Su",
        "outputId": "b85aac01-4cd5-4143-d642-73c2c0d6ccae"
      },
      "execution_count": null,
      "outputs": [
        {
          "output_type": "stream",
          "name": "stdout",
          "text": [
            "Processing file: EXPORTS- LKR Millions.xlsx\n",
            "  Processing sheet: Sheet1\n",
            "    Saved JSON file: /content/drive/MyDrive/JSD/EXPORTS- LKR Millions.xlsx_Sheet1.json\n",
            "Processing file: IMPORTS - LKR Millions.xlsx\n",
            "  Processing sheet: Sheet1\n",
            "    Saved JSON file: /content/drive/MyDrive/JSD/IMPORTS - LKR Millions.xlsx_Sheet1.json\n",
            "Saved consolidated Excel file: /content/drive/MyDrive/JSD/consolidated_timeseries.xlsx\n"
          ]
        }
      ]
    }
  ]
}